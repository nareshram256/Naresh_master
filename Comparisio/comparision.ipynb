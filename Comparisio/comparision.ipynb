{
 "cells": [
  {
   "cell_type": "code",
   "execution_count": 68,
   "metadata": {},
   "outputs": [
    {
     "name": "stdout",
     "output_type": "stream",
     "text": [
      "Enter filename1 ddmm: 0505naresh_nrcv\n",
      "Enter filename2 ddmm: 0505satish_nrcv\n",
      "\n",
      " Done\n"
     ]
    }
   ],
   "source": [
    "from glob import glob\n",
    "import time\n",
    "from datetime import datetime,timedelta, date\n",
    "import numpy as np\n",
    "#import numpy as np\n",
    "#from google.colab import files\n",
    "\n",
    "if __name__ == '__main__':\n",
    "    fp = input('Enter filename1 ddmm: ')\n",
    "    L2=open(fp+'.NRX','r')\n",
    "    line2=L2.readlines()[2:]\n",
    "    lst=[]\n",
    "    for i in range (0,len(line2)):\n",
    "        for j in range (25):\n",
    "            if('-A' in line2[i][j:j+2] or '-B' in line2[i][j:j+2] and 'M - MAIN METER' not in line2[i] and  'S - STANDBY METER' not in line2[i] and  'C - CHECK METER' not in line2[i] and 'L - LOSSES METER' not in line2[i]):\n",
    "                #print(line2[i][j-7:j+2])\n",
    "                lst.append(line2[i][j-7:j+2])\n",
    "            \n",
    "    fp2 = input('Enter filename2 ddmm: ')\n",
    "    L22=open(fp2+'.NRX','r')\n",
    "    line22=L22.readlines()[2:]\n",
    "    lst2=[]\n",
    "    for i in range (0,len(line22)):\n",
    "        for j in range (25):\n",
    "            if('-A' in line22[i][j:j+2] or '-B' in line22[i][j:j+2] and 'M - MAIN METER' not in line22[i] and  'S - STANDBY METER' not in line22[i] and  'C - CHECK METER' not in line22[i] and 'L - LOSSES METER' not in line22[i]):\n",
    "                #print(line22[i][j-7:j+2])\n",
    "                lst2.append(line22[i][j-7:j+2])\n",
    "             \n",
    "            \n",
    "    comp=[] \n",
    "    for i in range(len(lst)):\n",
    "        if(lst[i] not in lst2):\n",
    "            comp.append(lst[i])\n",
    "    \n",
    "    net=[]\n",
    "    L1=open('MASTER.DAT','r')\n",
    "    line1=L1.readlines()[2:]\n",
    "    lst=[]\n",
    "    for i in range (len(comp)):\n",
    "        for j in range (0,len(line1)):\n",
    "            if(comp[i] in line1[j]):\n",
    "                net.append(line1[j])        \n",
    "            \n",
    "            \n",
    "    np.savetxt(\"Comparision list.txt\",net,fmt='%s')         \n",
    "    print(\"\\n Total comp =\",len(comp))   "
   ]
  },
  {
   "cell_type": "code",
   "execution_count": 47,
   "metadata": {},
   "outputs": [
    {
     "name": "stdout",
     "output_type": "stream",
     "text": [
      "Enter file NPC name:0505Srea\n"
     ]
    }
   ],
   "source": [
    "nm=input(\"Enter file NPC name:\")\n",
    "ata=open(nm+'.NPC','r')\n",
    "data=ata.readlines()\n",
    "d=[]\n",
    "for i in range(0, len(data)):\n",
    "    if ('WEEK FROM 0000 HRS OF' in data[i] and data[i+1] not in d):\n",
    "          d.append(data[i+1][:9])\n",
    "for k in range (len(comp)):\n",
    "    if(comp[k] in d):\n",
    "        print(comp[k])            "
   ]
  },
  {
   "cell_type": "code",
   "execution_count": null,
   "metadata": {},
   "outputs": [],
   "source": []
  }
 ],
 "metadata": {
  "kernelspec": {
   "display_name": "Python 3",
   "language": "python",
   "name": "python3"
  },
  "language_info": {
   "codemirror_mode": {
    "name": "ipython",
    "version": 3
   },
   "file_extension": ".py",
   "mimetype": "text/x-python",
   "name": "python",
   "nbconvert_exporter": "python",
   "pygments_lexer": "ipython3",
   "version": "3.7.1"
  }
 },
 "nbformat": 4,
 "nbformat_minor": 4
}
